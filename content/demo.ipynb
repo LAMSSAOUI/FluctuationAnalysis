{
 "cells": [
  {
   "cell_type": "code",
   "execution_count": 1,
   "id": "c2175289-e05b-43c4-949b-42e401b5aff4",
   "metadata": {},
   "outputs": [
    {
     "name": "stdout",
     "output_type": "stream",
     "text": [
      "Requirement already satisfied: ipywidgets in c:\\users\\smalog1\\appdata\\roaming\\jupyterlab-desktop\\jlab_server\\lib\\site-packages (8.1.5)\n",
      "Requirement already satisfied: comm>=0.1.3 in c:\\users\\smalog1\\appdata\\roaming\\jupyterlab-desktop\\jlab_server\\lib\\site-packages (from ipywidgets) (0.2.2)\n",
      "Requirement already satisfied: ipython>=6.1.0 in c:\\users\\smalog1\\appdata\\roaming\\jupyterlab-desktop\\jlab_server\\lib\\site-packages (from ipywidgets) (8.26.0)\n",
      "Requirement already satisfied: traitlets>=4.3.1 in c:\\users\\smalog1\\appdata\\roaming\\jupyterlab-desktop\\jlab_server\\lib\\site-packages (from ipywidgets) (5.14.3)\n",
      "Requirement already satisfied: widgetsnbextension~=4.0.12 in c:\\users\\smalog1\\appdata\\roaming\\jupyterlab-desktop\\jlab_server\\lib\\site-packages (from ipywidgets) (4.0.13)\n",
      "Requirement already satisfied: jupyterlab-widgets~=3.0.12 in c:\\users\\smalog1\\appdata\\roaming\\jupyterlab-desktop\\jlab_server\\lib\\site-packages (from ipywidgets) (3.0.13)\n",
      "Requirement already satisfied: decorator in c:\\users\\smalog1\\appdata\\roaming\\jupyterlab-desktop\\jlab_server\\lib\\site-packages (from ipython>=6.1.0->ipywidgets) (5.1.1)\n",
      "Requirement already satisfied: jedi>=0.16 in c:\\users\\smalog1\\appdata\\roaming\\jupyterlab-desktop\\jlab_server\\lib\\site-packages (from ipython>=6.1.0->ipywidgets) (0.19.1)\n",
      "Requirement already satisfied: matplotlib-inline in c:\\users\\smalog1\\appdata\\roaming\\jupyterlab-desktop\\jlab_server\\lib\\site-packages (from ipython>=6.1.0->ipywidgets) (0.1.7)\n",
      "Requirement already satisfied: prompt-toolkit<3.1.0,>=3.0.41 in c:\\users\\smalog1\\appdata\\roaming\\jupyterlab-desktop\\jlab_server\\lib\\site-packages (from ipython>=6.1.0->ipywidgets) (3.0.47)\n",
      "Requirement already satisfied: pygments>=2.4.0 in c:\\users\\smalog1\\appdata\\roaming\\jupyterlab-desktop\\jlab_server\\lib\\site-packages (from ipython>=6.1.0->ipywidgets) (2.18.0)\n",
      "Requirement already satisfied: stack-data in c:\\users\\smalog1\\appdata\\roaming\\jupyterlab-desktop\\jlab_server\\lib\\site-packages (from ipython>=6.1.0->ipywidgets) (0.6.2)\n",
      "Requirement already satisfied: colorama in c:\\users\\smalog1\\appdata\\roaming\\jupyterlab-desktop\\jlab_server\\lib\\site-packages (from ipython>=6.1.0->ipywidgets) (0.4.6)\n",
      "Requirement already satisfied: parso<0.9.0,>=0.8.3 in c:\\users\\smalog1\\appdata\\roaming\\jupyterlab-desktop\\jlab_server\\lib\\site-packages (from jedi>=0.16->ipython>=6.1.0->ipywidgets) (0.8.4)\n",
      "Requirement already satisfied: wcwidth in c:\\users\\smalog1\\appdata\\roaming\\jupyterlab-desktop\\jlab_server\\lib\\site-packages (from prompt-toolkit<3.1.0,>=3.0.41->ipython>=6.1.0->ipywidgets) (0.2.13)\n",
      "Requirement already satisfied: executing>=1.2.0 in c:\\users\\smalog1\\appdata\\roaming\\jupyterlab-desktop\\jlab_server\\lib\\site-packages (from stack-data->ipython>=6.1.0->ipywidgets) (2.0.1)\n",
      "Requirement already satisfied: asttokens>=2.1.0 in c:\\users\\smalog1\\appdata\\roaming\\jupyterlab-desktop\\jlab_server\\lib\\site-packages (from stack-data->ipython>=6.1.0->ipywidgets) (2.4.1)\n",
      "Requirement already satisfied: pure-eval in c:\\users\\smalog1\\appdata\\roaming\\jupyterlab-desktop\\jlab_server\\lib\\site-packages (from stack-data->ipython>=6.1.0->ipywidgets) (0.2.3)\n",
      "Requirement already satisfied: six>=1.12.0 in c:\\users\\smalog1\\appdata\\roaming\\jupyterlab-desktop\\jlab_server\\lib\\site-packages (from asttokens>=2.1.0->stack-data->ipython>=6.1.0->ipywidgets) (1.16.0)\n"
     ]
    }
   ],
   "source": [
    "!pip install ipywidgets"
   ]
  },
  {
   "cell_type": "code",
   "execution_count": 1,
   "id": "a2250204-60f4-467a-9c64-769ecd1cc867",
   "metadata": {},
   "outputs": [
    {
     "data": {
      "application/vnd.jupyter.widget-view+json": {
       "model_id": "0be3e052f21b490db079bb75b2c52157",
       "version_major": 2,
       "version_minor": 0
      },
      "text/plain": [
       "FileUpload(value=(), accept='.xlsx', description='Upload')"
      ]
     },
     "metadata": {},
     "output_type": "display_data"
    },
    {
     "data": {
      "application/vnd.jupyter.widget-view+json": {
       "model_id": "de7c062a2eb94ea7af98430c54d7980e",
       "version_major": 2,
       "version_minor": 0
      },
      "text/plain": [
       "Dropdown(description='Sheet:', disabled=True, options=(), value=None)"
      ]
     },
     "metadata": {},
     "output_type": "display_data"
    },
    {
     "data": {
      "application/vnd.jupyter.widget-view+json": {
       "model_id": "c795a77b652e462cbf9b4937400a7826",
       "version_major": 2,
       "version_minor": 0
      },
      "text/plain": [
       "Dropdown(description='Project:', disabled=True, layout=Layout(width='50%'), options=(), style=DescriptionStyle…"
      ]
     },
     "metadata": {},
     "output_type": "display_data"
    },
    {
     "data": {
      "application/vnd.jupyter.widget-view+json": {
       "model_id": "d25f4317e7564e06b60e7879aa61e2ea",
       "version_major": 2,
       "version_minor": 0
      },
      "text/plain": [
       "Output()"
      ]
     },
     "metadata": {},
     "output_type": "display_data"
    }
   ],
   "source": [
    "import io\n",
    "import pandas as pd\n",
    "import plotly.express as px\n",
    "import ipywidgets as widgets\n",
    "from IPython.display import display, clear_output\n",
    "\n",
    "# Step 1: Upload widget\n",
    "uploader = widgets.FileUpload(\n",
    "    accept='.xlsx',\n",
    "    multiple=False\n",
    ")\n",
    "\n",
    "# Step 2: Sheet selector (disabled initially)\n",
    "sheet_dropdown = widgets.Dropdown(\n",
    "    options=[],\n",
    "    description='Sheet:',\n",
    "    disabled=True\n",
    ")\n",
    "\n",
    "# Step 3: Project selector (disabled initially)\n",
    "project_dropdown = widgets.Dropdown(\n",
    "    options=[],\n",
    "    description='Project:',\n",
    "    style={'description_width': 'initial'},\n",
    "    layout=widgets.Layout(width='50%'),\n",
    "    disabled=True\n",
    ")\n",
    "\n",
    "# Output area for dynamic content (plots, info)\n",
    "output = widgets.Output()\n",
    "\n",
    "# Global variable to hold loaded ExcelFile and DataFrame for selected sheet\n",
    "xls = None\n",
    "df_current = None\n",
    "\n",
    "# When file uploaded: load sheet names\n",
    "def on_upload_change(change):\n",
    "    global xls, df_current\n",
    "    if uploader.value:\n",
    "        uploaded_file = uploader.value[0]\n",
    "        content = uploaded_file['content']\n",
    "        bytes_io = io.BytesIO(content)\n",
    "        \n",
    "        xls = pd.ExcelFile(bytes_io)\n",
    "        sheet_dropdown.options = xls.sheet_names\n",
    "        sheet_dropdown.disabled = False\n",
    "        \n",
    "        # Reset project dropdown and output\n",
    "        project_dropdown.options = []\n",
    "        project_dropdown.disabled = True\n",
    "        \n",
    "        with output:\n",
    "            clear_output()\n",
    "            print(f\"Uploaded file: {uploaded_file['name']}\")\n",
    "            print(\"Select a sheet to load data.\")\n",
    "\n",
    "# When sheet selected: load that sheet into df_current, populate projects dropdown\n",
    "def on_sheet_change(change):\n",
    "    global df_current\n",
    "    if change['new']:\n",
    "        sheet_name = change['new']\n",
    "        df_current = pd.read_excel(xls, sheet_name=sheet_name)\n",
    "        \n",
    "        # Check 'Project' column exists\n",
    "        if 'Material type' in df_current.columns:\n",
    "            projects = df_current['Material type'].dropna().unique().tolist()\n",
    "            project_dropdown.options = sorted(projects)\n",
    "            project_dropdown.disabled = False\n",
    "            project_dropdown.value = None  # reset selection\n",
    "            \n",
    "            with output:\n",
    "                clear_output()\n",
    "                print(f\"Loaded sheet: {sheet_name}\")\n",
    "                print(\"Select a project to display the fluctuation graph.\")\n",
    "        else:\n",
    "            project_dropdown.options = []\n",
    "            project_dropdown.disabled = True\n",
    "            with output:\n",
    "                clear_output()\n",
    "                print(f\"Sheet '{sheet_name}' does not contain a 'Project' column.\")\n",
    "\n",
    "# When project selected: generate and display the plot\n",
    "def on_project_change(change):\n",
    "    if change['new'] and df_current is not None:\n",
    "        selected_project = change['new']\n",
    "        \n",
    "        with output:\n",
    "            clear_output()\n",
    "            df_selected = df_current[df_current['Material type'] == selected_project].copy()\n",
    "            \n",
    "            if df_selected.empty:\n",
    "                print(f\"No data available for project: {selected_project}\")\n",
    "                return\n",
    "            \n",
    "            # Identify week columns starting with 'wk' (case insensitive)\n",
    "            wk_cols = [col for col in df_selected.columns if col.lower().startswith('wk')]\n",
    "            if not wk_cols:\n",
    "                print(\"No columns starting with 'wk' found in data.\")\n",
    "                return\n",
    "            \n",
    "            # Melt dataframe for plotting\n",
    "            df_long = df_selected.melt(\n",
    "                id_vars=['Material', 'Material type', 'Delviered (08.07-16.07)', 'Deficit quantity'],\n",
    "                value_vars=wk_cols,\n",
    "                var_name='Week',\n",
    "                value_name='Fluctuation'\n",
    "            )\n",
    "            \n",
    "            fig = px.line(\n",
    "                df_long,\n",
    "                x='Week',\n",
    "                y='Fluctuation',\n",
    "                color='Material',\n",
    "                markers=True,\n",
    "                title=f'Fluctuation over Weeks for Project: {selected_project}',\n",
    "                hover_data=['Delviered (08.07-16.07)', 'Deficit quantity'],\n",
    "                height=600,\n",
    "                width=1100\n",
    "            )\n",
    "            fig.update_layout(xaxis_tickangle=45)\n",
    "            fig.show()\n",
    "\n",
    "# Connect the widget events\n",
    "uploader.observe(on_upload_change, names='value')\n",
    "sheet_dropdown.observe(on_sheet_change, names='value')\n",
    "project_dropdown.observe(on_project_change, names='value')\n",
    "\n",
    "# Display widgets\n",
    "display(uploader, sheet_dropdown, project_dropdown, output)\n"
   ]
  },
  {
   "cell_type": "code",
   "execution_count": 2,
   "id": "fdfdc36c-2d45-4c34-b4cb-d9c581093c6d",
   "metadata": {},
   "outputs": [
    {
     "name": "stderr",
     "output_type": "stream",
     "text": [
      "'pwd' is not recognized as an internal or external command,\n",
      "operable program or batch file.\n"
     ]
    }
   ],
   "source": [
    "!pwd"
   ]
  },
  {
   "cell_type": "code",
   "execution_count": 3,
   "id": "1effb709-0774-40fa-b3df-9ed8af48259e",
   "metadata": {},
   "outputs": [
    {
     "name": "stdout",
     "output_type": "stream",
     "text": [
      "Current Notebook Directory: C:\\Users\\smalog1\\Downloads\n"
     ]
    }
   ],
   "source": [
    "import os\n",
    "notebook_path = os.path.abspath('')\n",
    "print(\"Current Notebook Directory:\", notebook_path)"
   ]
  },
  {
   "cell_type": "code",
   "execution_count": null,
   "id": "85a391f7-f732-498d-bac2-3d95e0edf382",
   "metadata": {},
   "outputs": [],
   "source": []
  }
 ],
 "metadata": {
  "kernelspec": {
   "display_name": "Python 3 (ipykernel)",
   "language": "python",
   "name": "python3"
  },
  "language_info": {
   "codemirror_mode": {
    "name": "ipython",
    "version": 3
   },
   "file_extension": ".py",
   "mimetype": "text/x-python",
   "name": "python",
   "nbconvert_exporter": "python",
   "pygments_lexer": "ipython3",
   "version": "3.12.5"
  }
 },
 "nbformat": 4,
 "nbformat_minor": 5
}
